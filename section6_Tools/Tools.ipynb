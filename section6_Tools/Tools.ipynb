{
 "cells": [
  {
   "cell_type": "markdown",
   "metadata": {},
   "source": [
    "## Building Tools for LLM 🛠️\n"
   ]
  },
  {
   "cell_type": "code",
   "execution_count": 16,
   "metadata": {},
   "outputs": [],
   "source": [
    "from dotenv import load_dotenv\n",
    "load = load_dotenv('./../.env')"
   ]
  },
  {
   "cell_type": "code",
   "execution_count": 17,
   "metadata": {},
   "outputs": [],
   "source": [
    "from dotenv import load_dotenv\n",
    "from langchain_ollama import ChatOllama\n",
    "\n",
    "load = load_dotenv('./../.env')\n",
    "\n",
    "\n",
    "llm = ChatOllama(\n",
    "    base_url=\"http://localhost:11434\",\n",
    "    model = \"qwen2.5:3b\",\n",
    "    temperature=0.5,\n",
    "    max_tokens = 250\n",
    ")"
   ]
  },
  {
   "cell_type": "markdown",
   "metadata": {},
   "source": [
    "### Installing a community"
   ]
  },
  {
   "cell_type": "code",
   "execution_count": 18,
   "metadata": {},
   "outputs": [
    {
     "name": "stdout",
     "output_type": "stream",
     "text": [
      "Note: you may need to restart the kernel to use updated packages.\n"
     ]
    },
    {
     "name": "stderr",
     "output_type": "stream",
     "text": [
      "\n",
      "[notice] A new release of pip is available: 24.3.1 -> 25.0.1\n",
      "[notice] To update, run: python.exe -m pip install --upgrade pip\n"
     ]
    }
   ],
   "source": [
    "%pip install --upgrade --quiet  wikipedia"
   ]
  },
  {
   "cell_type": "code",
   "execution_count": 19,
   "metadata": {},
   "outputs": [],
   "source": [
    "from langchain_community.tools import WikipediaQueryRun\n",
    "from langchain_community.utilities import WikipediaAPIWrapper"
   ]
  },
  {
   "cell_type": "code",
   "execution_count": 20,
   "metadata": {},
   "outputs": [
    {
     "name": "stdout",
     "output_type": "stream",
     "text": [
      "Page: Avatar (franchise)\n",
      "Summary: Avatar is an American epic science fiction media franchise created by James Cameron, which began with the eponymous 2009 film. Produced by 20th Century Studios and distributed by Lightstorm Entertainment, it consists of associated merchandise, video games, and theme park attractions. Avatar is set in the mid-22nd century on Pandora, a lush habitable moon of a gas giant in the Alpha Centauri star system. The films' central conflict is between the indigenous Na'vi led by Jake Sully and Neytiri, and humans led by Colonel Miles Quaritch from the Resources Development Administration (RDA), a megacorp which has arrived on Pandora to colonize and pillage it for its natural resources. The title of the series refers to the genetically engineered Na'vi body operated from the brain that humans pilot to interact with on Pandora.\n",
      "The first installment, Avatar, was released on December 18, 2009, and is the highest grossing motion picture of all-time when ticket price inflation is not considered. The second installment, The Way of Water, was released on December 16, 2022. The planned sequel series was announced by 20th Century Fox on December 11, 2009, one week before Avatar was released to theaters. 20th Century Fox had confirmed the series on January 15, 2010. The Avatar franchise is one of the most expensive franchises undertaken, with the combined budget of the first film and its four sequels estimated at $1 billion. The franchise has grossed more than $5.2 billion worldwide; it is the 15th-highest-grossing film series of all time.\n",
      "Like the original film, the four sequels have \"fully encapsulated\" stand-alone plots that \"come to their own conclusions\". The four films have an overarching meta-narrative that connects them to create a large interconnected saga. Cameron described the sequels as \"a natural extension of all the themes, and the characters, and the spiritual undercurrents\" of the first film.\n",
      "\n",
      "\n",
      "\n",
      "Page: Avatar (2009 film)\n",
      "Summary: Avatar is a 2009 epic science fiction film co-produced, co-edited, written, and directed by James Cameron. It features an ensemble cast including Sam Worthington, Zoe Saldana, Stephen Lang, Michelle Rodriguez and Sigourney Weaver. The first installment in the Avatar film series, it is set in the mid-22nd century, when humans are colonizing Pandora, a lush habitable moon of a gas giant in the Alpha Centauri star system, in order to mine the valuable unobtanium, a room-temperature superconductor mineral. The expansion of the mining colony threatens the continued existence of a local tribe of Na'vi, a humanoid species indigenous to Pandora. The title of the film refers to a genetically engineered Na'vi body operated from the brain of a remotely located human that is used to interact with the natives of Pandora.\n",
      "Development of Avatar began in 1994, when Cameron wrote an 80-page treatment for the film. Filming was supposed to take place after the completion of Cameron's 1997 film Titanic, for a planned release in 1999; however, according to Cameron, the necessary technology was not yet available to achieve his vision of the film. Work on the fictional constructed language of the Na'vi began in 2005, and Cameron began developing the screenplay and fictional universe in early 2006. Avatar was officially budgeted at $237 million, due to the groundbreaking array of new visual effects Cameron achieved in cooperation with Weta Digital in Wellington. Other estimates put the cost at between $280 million and $310 million for production and at $150 million for promotion. The film made extensive use of 3D computer graphics and new motion capture filming techniques, and was released for traditional viewing, 3D viewing (using the RealD 3D, Dolby 3D, XpanD 3D, and IMAX 3D formats), and 4D experiences (in selected South Korean theaters). The film also saw Cameron reunite with his Titanic co-producer Jon Landau, who he would later credit for having a prominent role in the film's production.\n",
      "A\n"
     ]
    }
   ],
   "source": [
    "wikipedia = WikipediaQueryRun(api_wrapper=WikipediaAPIWrapper())\n",
    "\n",
    "tool_response = wikipedia.invoke(\"Give me details of Avatar movie\")\n",
    "\n",
    "print(tool_response)"
   ]
  },
  {
   "cell_type": "markdown",
   "metadata": {},
   "source": [
    "### Creating Custom Tools "
   ]
  },
  {
   "cell_type": "code",
   "execution_count": 21,
   "metadata": {},
   "outputs": [
    {
     "name": "stdout",
     "output_type": "stream",
     "text": [
      "30\n"
     ]
    }
   ],
   "source": [
    "from langchain.tools import tool\n",
    "\n",
    "@tool\n",
    "def add_numbers(a: int, b: int) -> int:\n",
    "    \"Add two numbers and return results.\"\n",
    "    return int(a) + int(b)\n",
    "\n",
    "@tool\n",
    "def subtract_numbers(a: int, b: int) -> int:\n",
    "    \"Subtract two numbers and return results.\"\n",
    "    return int(a) - int(b)\n",
    "\n",
    "@tool\n",
    "def multiply_numbers(a: int, b: int) -> int:\n",
    "    \"Multiply two numbers and return results.\"\n",
    "    return int(a) * int(b)\n",
    "\n",
    "print(add_numbers.invoke({\"a\": 10, \"b\": 20}))"
   ]
  },
  {
   "cell_type": "code",
   "execution_count": 22,
   "metadata": {},
   "outputs": [
    {
     "name": "stdout",
     "output_type": "stream",
     "text": [
      "[{'name': 'multiply_numbers', 'args': {'a': 2, 'b': 2}, 'id': '2a71e6ba-8006-4885-ab33-88844b443975', 'type': 'tool_call'}]\n"
     ]
    }
   ],
   "source": [
    "tools = [wikipedia, add_numbers, subtract_numbers, multiply_numbers]\n",
    "\n",
    "list_of_tools = {tool.name: tool for tool in tools}\n",
    "\n",
    "list_of_tools\n",
    "\n",
    "# response = llm.invoke(\"When did avatar movie released the ways of water?\")\n",
    "\n",
    "# print(response.content)\n",
    "\n",
    "llm_with_tools = llm.bind_tools(tools=tools)\n",
    "\n",
    "tool_call_response = llm_with_tools.invoke(\"What is the double of 2\")\n",
    "\n",
    "print(tool_call_response.tool_calls)\n",
    "\n",
    "#tool_call_response\n"
   ]
  },
  {
   "cell_type": "markdown",
   "metadata": {},
   "source": [
    "### Execute the custom tools from LLM"
   ]
  },
  {
   "cell_type": "code",
   "execution_count": 40,
   "metadata": {},
   "outputs": [
    {
     "data": {
      "text/plain": [
       "[HumanMessage(content='Who is the tallest man in the world?', additional_kwargs={}, response_metadata={}),\n",
       " AIMessage(content='', additional_kwargs={}, response_metadata={'model': 'qwen2.5:3b', 'created_at': '2025-04-15T09:14:37.0917871Z', 'done': True, 'done_reason': 'stop', 'total_duration': 578594700, 'load_duration': 14218900, 'prompt_eval_count': 373, 'prompt_eval_duration': 206156900, 'eval_count': 41, 'eval_duration': 357140000, 'message': Message(role='assistant', content='', images=None, tool_calls=None), 'model_name': 'qwen2.5:3b'}, id='run-be5a4d96-3aaa-4c73-9a6d-8f61dca1a4ab-0', tool_calls=[{'name': 'wikipedia', 'args': {'query': 'tallest man in the world'}, 'id': '7cd68ea7-9b65-4d85-9b0f-0bba40b59de9', 'type': 'tool_call'}], usage_metadata={'input_tokens': 373, 'output_tokens': 41, 'total_tokens': 414})]"
      ]
     },
     "execution_count": 40,
     "metadata": {},
     "output_type": "execute_result"
    }
   ],
   "source": [
    "from langchain_core.messages import HumanMessage\n",
    "\n",
    "query = \"Who is the tallest man in the world?\"\n",
    "\n",
    "message = []\n",
    "\n",
    "message = [HumanMessage(query)]\n",
    "ai_message = llm_with_tools.invoke(query)\n",
    "\n",
    "message.append(ai_message)\n",
    "\n",
    "message"
   ]
  },
  {
   "cell_type": "code",
   "execution_count": 41,
   "metadata": {},
   "outputs": [
    {
     "data": {
      "text/plain": [
       "[HumanMessage(content='Who is the tallest man in the world?', additional_kwargs={}, response_metadata={}),\n",
       " AIMessage(content='', additional_kwargs={}, response_metadata={'model': 'qwen2.5:3b', 'created_at': '2025-04-15T09:14:37.0917871Z', 'done': True, 'done_reason': 'stop', 'total_duration': 578594700, 'load_duration': 14218900, 'prompt_eval_count': 373, 'prompt_eval_duration': 206156900, 'eval_count': 41, 'eval_duration': 357140000, 'message': Message(role='assistant', content='', images=None, tool_calls=None), 'model_name': 'qwen2.5:3b'}, id='run-be5a4d96-3aaa-4c73-9a6d-8f61dca1a4ab-0', tool_calls=[{'name': 'wikipedia', 'args': {'query': 'tallest man in the world'}, 'id': '7cd68ea7-9b65-4d85-9b0f-0bba40b59de9', 'type': 'tool_call'}], usage_metadata={'input_tokens': 373, 'output_tokens': 41, 'total_tokens': 414}),\n",
       " ToolMessage(content='Page: List of tallest people\\nSummary: This is a list of the tallest people, verified by Guinness World Records or other reliable sources.\\nAccording to Guinness World Records, Robert Wadlow of the United States (1918–1940) was the tallest person in recorded history, measuring 272 cm (8 ft 11 in) at the time of his death.\\nThere are reports about even taller people but most claims are unverified or erroneous. Since antiquity, discoveries have been reported of gigantic human skeletons. Originally thought to belong to mythical giants, these bones were later identified as the exaggerated remains of prehistoric animals, usually whales or elephants. Regular reports in American newspapers in the 18th and 19th centuries of giant human skeletons may have inspired the case of the \"petrified\" Cardiff Giant, an archaeological hoax.\\n\\nPage: List of tallest buildings and structures\\nSummary: \\n\\nPage: List of tallest buildings\\nSummary: This is a list of the tallest buildings. Tall buildings, such as skyscrapers, are intended here as enclosed structures with continuously occupiable floors and a height of at least 350 metres (1,150 ft). Such definition excludes non-building structures, such as towers.', tool_call_id='7cd68ea7-9b65-4d85-9b0f-0bba40b59de9', tool_name='wikipedia', tool_args={'query': 'tallest man in the world'})]"
      ]
     },
     "execution_count": 41,
     "metadata": {},
     "output_type": "execute_result"
    }
   ],
   "source": [
    "from langchain_core.messages import ToolMessage # Import ToolMessage\n",
    "\n",
    "# Make sure message list is correctly initialized before this loop\n",
    "# message = [HumanMessage(query), ai_message] # Should contain the human query and the AI's response with tool_calls\n",
    "\n",
    "for tool_call in ai_message.tool_calls:\n",
    "    tool_name = tool_call['name'].lower()\n",
    "    \n",
    "    # Check if the tool exists\n",
    "    if tool_name in list_of_tools:\n",
    "        execute_tool = list_of_tools[tool_name]\n",
    "        \n",
    "        # Extract the arguments dictionary\n",
    "        tool_args = tool_call['args'] \n",
    "        \n",
    "        try:\n",
    "            # Invoke the tool with ONLY the arguments\n",
    "            tool_output = execute_tool.invoke(tool_args) \n",
    "            \n",
    "            # Append the result as a ToolMessage\n",
    "            message.append(\n",
    "                ToolMessage(tool_name = tool_name, content=str(tool_output), tool_args = tool_args,  tool_call_id=tool_call['id'])\n",
    "            )\n",
    "        except Exception as e:\n",
    "            print(f\"Error executing tool {tool_name} with args {tool_args}: {e}\")\n",
    "            # Optionally append an error message back\n",
    "            message.append(\n",
    "                ToolMessage(content=f\"Error executing tool: {e}\", tool_call_id=tool_call['id'])\n",
    "            )\n",
    "    else:\n",
    "        print(f\"Tool '{tool_name}' not found.\")\n",
    "        # Optionally append a message indicating the tool wasn't found\n",
    "        message.append(\n",
    "            ToolMessage(content=f\"Tool '{tool_name}' not found.\", tool_call_id=tool_call['id'])\n",
    "        )\n",
    "\n",
    "# Now 'message' contains the original query, the AI's request to call the tool, \n",
    "# and the ToolMessage with the result (or error) from the tool execution.\n",
    "# You can then pass this updated 'message' list to the LLM again.\n",
    "# final_output = llm_with_tools.invoke(message)\n",
    "# print(final_output.content)\n",
    "message"
   ]
  },
  {
   "cell_type": "code",
   "execution_count": 42,
   "metadata": {},
   "outputs": [],
   "source": [
    "# for tool_call in ai_message.tool_calls:\n",
    "#     tool_name = tool_call['name'].lower()\n",
    "    \n",
    "#     execute_tool = list_of_tools[tool_name]\n",
    "    \n",
    "#     tool_invoke = execute_tool.invoke(tool_call)\n",
    "    \n",
    "#     message.append(tool_invoke)\n",
    "    \n",
    "# message"
   ]
  },
  {
   "cell_type": "code",
   "execution_count": 43,
   "metadata": {},
   "outputs": [
    {
     "name": "stdout",
     "output_type": "stream",
     "text": [
      "According to Guinness World Records, Robert Wadlow from the United States was the tallest person in recorded history, measuring 272 cm (8 feet 11 inches) at the time of his death. This information is based on the \"List of Tallest People\" page from Wikipedia. There are unverified reports about even taller people in antiquity, which were initially thought to be giant human skeletons but later identified as exaggerated remains of prehistoric animals like whales or elephants.\n"
     ]
    }
   ],
   "source": [
    "final_output = llm_with_tools.invoke(message)\n",
    "\n",
    "print(final_output.content)"
   ]
  }
 ],
 "metadata": {
  "kernelspec": {
   "display_name": "myenv312",
   "language": "python",
   "name": "python3"
  },
  "language_info": {
   "codemirror_mode": {
    "name": "ipython",
    "version": 3
   },
   "file_extension": ".py",
   "mimetype": "text/x-python",
   "name": "python",
   "nbconvert_exporter": "python",
   "pygments_lexer": "ipython3",
   "version": "3.13.2"
  }
 },
 "nbformat": 4,
 "nbformat_minor": 2
}
